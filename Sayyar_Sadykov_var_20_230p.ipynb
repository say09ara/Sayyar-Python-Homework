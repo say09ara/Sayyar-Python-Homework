{
 "cells": [
  {
   "cell_type": "markdown",
   "id": "127d85c6-1a78-4f1a-b5fa-8d622bbeea21",
   "metadata": {},
   "source": [
    "Задание 1"
   ]
  },
  {
   "cell_type": "code",
   "execution_count": 71,
   "id": "4e3d9c9c-af94-4de7-9514-e264b8496c35",
   "metadata": {},
   "outputs": [],
   "source": [
    "def rearrange(mass):\n",
    "    if len(mass) % 2 != 0:\n",
    "        raise ValueError(\"Массив должен содержать чётное число элементов (2n)\")\n",
    "    n = len(mass) // 2\n",
    "    second_element = mass[1]\n",
    "    min_element = min(mass)\n",
    "    new = [second_element, min_element]\n",
    "    return new"
   ]
  },
  {
   "cell_type": "code",
   "execution_count": 72,
   "id": "2782a7ea-9346-4f13-a2f3-36b1368a6753",
   "metadata": {},
   "outputs": [
    {
     "data": {
      "text/plain": [
       "[7, 2]"
      ]
     },
     "execution_count": 72,
     "metadata": {},
     "output_type": "execute_result"
    }
   ],
   "source": [
    "rearrange([4, 7, 3, 8, 2, 5])"
   ]
  },
  {
   "cell_type": "markdown",
   "id": "ab1a07ca-468e-45e0-b3eb-baadf48fbf75",
   "metadata": {},
   "source": [
    "Задание 2"
   ]
  },
  {
   "cell_type": "code",
   "execution_count": 73,
   "id": "e93046ef-d568-425b-a95b-a19d9eb9977d",
   "metadata": {},
   "outputs": [],
   "source": [
    "def find_max_non_extreme(arr):\n",
    "    if len(arr) < 3:\n",
    "        return 0\n",
    "    non_extreme = []\n",
    "    for i in range(len(arr)):\n",
    "        if i == 0 or i == len(arr) - 1:\n",
    "            non_extreme.append(arr[i])\n",
    "        else:\n",
    "            prev, curr, next_ = arr[i-1], arr[i], arr[i+1]\n",
    "            is_min = curr < prev and curr < next_\n",
    "            is_max = curr > prev and curr > next_\n",
    "            if not is_min and not is_max:\n",
    "                non_extreme.append(arr[i])\n",
    "    if not non_extreme:\n",
    "        return 0\n",
    "    return non_extreme, max(non_extreme)"
   ]
  },
  {
   "cell_type": "code",
   "execution_count": 74,
   "id": "60b1657b-6504-4897-a7d3-e428d8c430ac",
   "metadata": {},
   "outputs": [
    {
     "data": {
      "text/plain": [
       "([5, 4], 5)"
      ]
     },
     "execution_count": 74,
     "metadata": {},
     "output_type": "execute_result"
    }
   ],
   "source": [
    "find_max_non_extreme([5, 1, 3, 2, 4])"
   ]
  },
  {
   "cell_type": "markdown",
   "id": "6188c779-dfee-4a74-8b74-41557de2541e",
   "metadata": {},
   "source": [
    "Задание 3"
   ]
  },
  {
   "cell_type": "code",
   "execution_count": 75,
   "id": "9c2c2568-d4a9-4c31-b31d-97afbe5a4d79",
   "metadata": {},
   "outputs": [],
   "source": [
    "def remove_odd_numbers(arr):\n",
    "    even_numbers = [x for x in arr if x % 2 == 0]\n",
    "    return even_numbers"
   ]
  },
  {
   "cell_type": "code",
   "execution_count": 76,
   "id": "876534df-f54d-4696-a519-dfb02d7607c4",
   "metadata": {},
   "outputs": [
    {
     "name": "stdout",
     "output_type": "stream",
     "text": [
      "Размер нового массива: 2\n",
      "Содержимое нового массива: [2, 4]\n"
     ]
    }
   ],
   "source": [
    "array = [5, 1, 3, 2, 4]\n",
    "result = remove_odd_numbers(array)\n",
    "print(\"Размер нового массива:\", len(result))\n",
    "print(\"Содержимое нового массива:\", result)"
   ]
  },
  {
   "cell_type": "markdown",
   "id": "986cde58-9f79-4d3d-bb90-e60ec6f1987c",
   "metadata": {},
   "source": [
    "Задание 4"
   ]
  },
  {
   "cell_type": "code",
   "execution_count": 77,
   "id": "fd1f0c43-5fb7-4adf-a156-9bef3d130081",
   "metadata": {},
   "outputs": [],
   "source": [
    "import numpy as np\n",
    "\n",
    "def matrix_check(arr, k):\n",
    "    n, m = arr.shape  \n",
    "    mask = arr % m == k  \n",
    "    return arr[mask]"
   ]
  },
  {
   "cell_type": "code",
   "execution_count": 78,
   "id": "9b9cf521-f884-4da1-a82f-e79bf052bb19",
   "metadata": {},
   "outputs": [],
   "source": [
    "matrix = np.array([\n",
    "    [5, 8, 12, 3],\n",
    "    [9, 7, 16, 2],\n",
    "    [4, 11, 6, 10]\n",
    "])"
   ]
  },
  {
   "cell_type": "code",
   "execution_count": 79,
   "id": "b1d00e8a-44b4-4412-9cd7-a8e9414d7393",
   "metadata": {},
   "outputs": [
    {
     "data": {
      "text/plain": [
       "array([ 2,  6, 10])"
      ]
     },
     "execution_count": 79,
     "metadata": {},
     "output_type": "execute_result"
    }
   ],
   "source": [
    "matrix_check(matrix, 2)"
   ]
  },
  {
   "cell_type": "code",
   "execution_count": null,
   "id": "9aed94f4-8347-4879-acef-eb82610841f0",
   "metadata": {},
   "outputs": [],
   "source": []
  }
 ],
 "metadata": {
  "kernelspec": {
   "display_name": "Python 3 (ipykernel)",
   "language": "python",
   "name": "python3"
  },
  "language_info": {
   "codemirror_mode": {
    "name": "ipython",
    "version": 3
   },
   "file_extension": ".py",
   "mimetype": "text/x-python",
   "name": "python",
   "nbconvert_exporter": "python",
   "pygments_lexer": "ipython3",
   "version": "3.12.4"
  }
 },
 "nbformat": 4,
 "nbformat_minor": 5
}
