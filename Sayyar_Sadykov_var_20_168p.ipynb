{
 "cells": [
  {
   "cell_type": "markdown",
   "id": "b3ea2c0d-1956-4fa9-9609-3b23cd28fce0",
   "metadata": {},
   "source": [
    "Задание 1"
   ]
  },
  {
   "cell_type": "code",
   "execution_count": 4,
   "id": "5a53f191-8a99-434d-9b2c-7bcd612b5fe4",
   "metadata": {},
   "outputs": [],
   "source": [
    "def when_zero(n):\n",
    "    count = 0\n",
    "    while n > 0:\n",
    "        sum_digits = sum(int(d) for d in str(n))\n",
    "        n -= sum_digits\n",
    "        count += 1\n",
    "    return count\n",
    "    "
   ]
  },
  {
   "cell_type": "code",
   "execution_count": 7,
   "id": "a88adf61-b365-4465-8d9c-8c530d9095b6",
   "metadata": {},
   "outputs": [
    {
     "data": {
      "text/plain": [
       "2"
      ]
     },
     "execution_count": 7,
     "metadata": {},
     "output_type": "execute_result"
    }
   ],
   "source": [
    "when_zero(10)"
   ]
  },
  {
   "cell_type": "markdown",
   "id": "e99e45d0-7f1c-4d66-8814-66e2cacb69cb",
   "metadata": {},
   "source": [
    "Задание 2"
   ]
  },
  {
   "cell_type": "code",
   "execution_count": 10,
   "id": "c9b0e065-2acf-4dbf-a334-9533a57c5744",
   "metadata": {},
   "outputs": [],
   "source": [
    "def new_module(nums):\n",
    "    count = 0\n",
    "    for i in range(len(nums)):\n",
    "        if nums[i] < 0:\n",
    "            nums[i] = -nums[i]  # Модуль без использования abs()\n",
    "            count += 1\n",
    "    return nums, count"
   ]
  },
  {
   "cell_type": "code",
   "execution_count": 11,
   "id": "91443208-706d-4f85-be4a-dc3a8e1f32ec",
   "metadata": {},
   "outputs": [
    {
     "data": {
      "text/plain": [
       "([3, 1, 4, 5, 2, 9, 0, 7], 4)"
      ]
     },
     "execution_count": 11,
     "metadata": {},
     "output_type": "execute_result"
    }
   ],
   "source": [
    "nums = [3, -1, 4, -5, 2, -9, 0, -7]\n",
    "new_module(nums)"
   ]
  },
  {
   "cell_type": "markdown",
   "id": "b23ff502-0844-494a-9629-92f286b62fae",
   "metadata": {},
   "source": [
    "Задание 3"
   ]
  },
  {
   "cell_type": "code",
   "execution_count": 13,
   "id": "ca73a7d2-f1ed-4778-a5c4-814dc1061e24",
   "metadata": {},
   "outputs": [],
   "source": [
    "from math import factorial"
   ]
  },
  {
   "cell_type": "code",
   "execution_count": 15,
   "id": "64994c32-88e3-4d2f-acc5-6107fbb0eba7",
   "metadata": {},
   "outputs": [],
   "source": [
    "def sum_uneven_factorials(n):\n",
    "    if n % 2 == 0:\n",
    "        raise ValueError(\"n должно быть нечетным числом\")\n",
    "    if n > 20:\n",
    "        raise ValueError(\"n должно быть ≤ 20\")\n",
    "    \n",
    "    total = 0\n",
    "    for i in range(1, n + 1, 2): \n",
    "        total += factorial(i)\n",
    "    return total"
   ]
  },
  {
   "cell_type": "code",
   "execution_count": 17,
   "id": "ded17347-3bb9-40ff-a590-37abd5f0b30b",
   "metadata": {},
   "outputs": [
    {
     "data": {
      "text/plain": [
       "7"
      ]
     },
     "execution_count": 17,
     "metadata": {},
     "output_type": "execute_result"
    }
   ],
   "source": [
    "sum_uneven_factorials(3)"
   ]
  },
  {
   "cell_type": "code",
   "execution_count": null,
   "id": "03b154e5-e4a9-4c4a-b2cf-bf1c3143799b",
   "metadata": {},
   "outputs": [],
   "source": []
  }
 ],
 "metadata": {
  "kernelspec": {
   "display_name": "Python 3 (ipykernel)",
   "language": "python",
   "name": "python3"
  },
  "language_info": {
   "codemirror_mode": {
    "name": "ipython",
    "version": 3
   },
   "file_extension": ".py",
   "mimetype": "text/x-python",
   "name": "python",
   "nbconvert_exporter": "python",
   "pygments_lexer": "ipython3",
   "version": "3.12.4"
  }
 },
 "nbformat": 4,
 "nbformat_minor": 5
}
