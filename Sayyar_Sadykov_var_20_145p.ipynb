{
 "cells": [
  {
   "cell_type": "code",
   "execution_count": 1,
   "id": "e0f5224a-bcbd-4b94-aa6e-7aefa947bbd9",
   "metadata": {},
   "outputs": [],
   "source": [
    "def cows(money = 100, beast_amount = 100, bull_price = 10, cow_price = 5, baby_price = 0.5):\n",
    "    bull_amount = 0 \n",
    "    bull_max_amount = money/bull_price\n",
    "    cow_amount = 0\n",
    "    cow_max_amount = money/cow_price\n",
    "    baby_amount = 0 \n",
    "    baby_max_amount = money/baby_price\n",
    "    for bull_amount in range(int(bull_max_amount)):\n",
    "        for cow_amount in range(int(cow_max_amount)):\n",
    "            for baby_amount in range(int(baby_max_amount)):\n",
    "                if (bull_amount + cow_amount + baby_amount == 100):\n",
    "                    if (bull_amount * bull_price + cow_amount * cow_price + baby_amount * baby_price == money):\n",
    "                        print(bull_amount, cow_amount, baby_amount)\n",
    "                    "
   ]
  },
  {
   "cell_type": "code",
   "execution_count": 2,
   "id": "37456b70-0503-4e1c-b66e-676973c7a34f",
   "metadata": {},
   "outputs": [
    {
     "name": "stdout",
     "output_type": "stream",
     "text": [
      "1 9 90\n"
     ]
    }
   ],
   "source": [
    "cows()"
   ]
  },
  {
   "cell_type": "code",
   "execution_count": 3,
   "id": "465eda9d-39b2-432d-891e-815f5e067ce0",
   "metadata": {},
   "outputs": [],
   "source": [
    "import math\n",
    "\n",
    "def sin_sin(x, n):\n",
    "    result = 0\n",
    "    for i in range(n):\n",
    "        x = math.sin(math.sin(x))\n",
    "        result += x\n",
    "    print(result)"
   ]
  },
  {
   "cell_type": "code",
   "execution_count": 4,
   "id": "689b51d0-f16c-4767-8233-9433404a34c3",
   "metadata": {},
   "outputs": [
    {
     "name": "stdout",
     "output_type": "stream",
     "text": [
      "1.373195973714717\n"
     ]
    }
   ],
   "source": [
    "sin_sin(1, 2)"
   ]
  },
  {
   "cell_type": "code",
   "execution_count": 5,
   "id": "bca3394b-eec6-4547-aab5-5a94ba3f598a",
   "metadata": {},
   "outputs": [],
   "source": [
    "import math\n",
    "\n",
    "def factorial_rules(n, precision = 0.001):\n",
    "    digits = 0\n",
    "    while precision < 1:\n",
    "        precision = precision * 10\n",
    "        digits +=1\n",
    "    all_num = []\n",
    "    for i in range(n+1):\n",
    "        if i == 0:\n",
    "            continue\n",
    "        else:\n",
    "            all_num.append((math.factorial(i))/(math.factorial(i*2)))\n",
    "    result = sum(all_num)\n",
    "    return round(result, digits) \n",
    "        "
   ]
  },
  {
   "cell_type": "code",
   "execution_count": 6,
   "id": "623d9865-fd9b-40b1-be23-bc74cccf210a",
   "metadata": {},
   "outputs": [
    {
     "data": {
      "text/plain": [
       "0.592"
      ]
     },
     "execution_count": 6,
     "metadata": {},
     "output_type": "execute_result"
    }
   ],
   "source": [
    "factorial_rules(4, precision = 0.001)"
   ]
  },
  {
   "cell_type": "code",
   "execution_count": 7,
   "id": "064efdaf-332c-411d-8d75-09689cc6baec",
   "metadata": {},
   "outputs": [],
   "source": [
    "def less_than_right(n, numbers):\n",
    "    numbers_that_less = []\n",
    "    k = 0 \n",
    "    for i in range(len(numbers)-1):\n",
    "         if numbers[i] < numbers[i+1]:\n",
    "             numbers_that_less.append(numbers[i])\n",
    "             k += 1\n",
    "    print(f'Список чисел: {numbers_that_less}')\n",
    "    print(f'Их количество: {k}')\n",
    "             \n",
    "            "
   ]
  },
  {
   "cell_type": "code",
   "execution_count": 8,
   "id": "2ba69bc4-58a1-4e48-ab3e-3c23d53b24ae",
   "metadata": {},
   "outputs": [
    {
     "name": "stdout",
     "output_type": "stream",
     "text": [
      "Список чисел: [3, 5, 1, 2, 3]\n",
      "Их количество: 5\n"
     ]
    }
   ],
   "source": [
    "less_than_right(4, [3, 5, 7, 1, 2, 3, 4])"
   ]
  }
 ],
 "metadata": {
  "kernelspec": {
   "display_name": "Python 3 (ipykernel)",
   "language": "python",
   "name": "python3"
  },
  "language_info": {
   "codemirror_mode": {
    "name": "ipython",
    "version": 3
   },
   "file_extension": ".py",
   "mimetype": "text/x-python",
   "name": "python",
   "nbconvert_exporter": "python",
   "pygments_lexer": "ipython3",
   "version": "3.12.4"
  }
 },
 "nbformat": 4,
 "nbformat_minor": 5
}
