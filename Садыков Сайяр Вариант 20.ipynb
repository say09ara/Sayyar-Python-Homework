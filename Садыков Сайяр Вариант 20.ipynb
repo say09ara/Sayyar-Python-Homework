{
 "cells": [
  {
   "cell_type": "markdown",
   "id": "a89740f9-c6d4-44cc-af5d-8703be50c52d",
   "metadata": {},
   "source": [
    "**Вариант 20**\n"
   ]
  },
  {
   "cell_type": "markdown",
   "id": "edee05d0-ef24-4c56-a421-d5ffb1dc3b22",
   "metadata": {},
   "source": [
    "*Задание 1*"
   ]
  },
  {
   "cell_type": "code",
   "execution_count": 30,
   "id": "264208d2-b579-4e42-aad7-5f168dbd1c41",
   "metadata": {},
   "outputs": [],
   "source": [
    "import math\n",
    "def function(x):\n",
    "    if isinstance(x, int):\n",
    "        pass\n",
    "    else: \n",
    "        raise Exception(\"Введите число\")\n",
    "    if x > 0:\n",
    "        return (math.log(x)+9)\n",
    "    else:\n",
    "        return (-(x/(x**2-7)))"
   ]
  },
  {
   "cell_type": "code",
   "execution_count": 67,
   "id": "625dcccb-a2ff-4bbc-8b83-eb8e68f46313",
   "metadata": {},
   "outputs": [
    {
     "data": {
      "text/plain": [
       "9.0"
      ]
     },
     "execution_count": 67,
     "metadata": {},
     "output_type": "execute_result"
    }
   ],
   "source": [
    "function(1)"
   ]
  },
  {
   "cell_type": "code",
   "execution_count": 68,
   "id": "28b24dc9-9c9f-4baa-abc1-0c76bc0727d2",
   "metadata": {},
   "outputs": [
    {
     "data": {
      "text/plain": [
       "0.12162162162162163"
      ]
     },
     "execution_count": 68,
     "metadata": {},
     "output_type": "execute_result"
    }
   ],
   "source": [
    "function(-9)"
   ]
  },
  {
   "cell_type": "markdown",
   "id": "687f6f00-acd2-4d59-808c-04ff3135d8f3",
   "metadata": {},
   "source": [
    "*Задание 2*"
   ]
  },
  {
   "cell_type": "code",
   "execution_count": 131,
   "id": "d0ede824-0c47-4162-b91e-6a477757e4f0",
   "metadata": {},
   "outputs": [],
   "source": [
    "def is_triangle(sides):\n",
    "    if sides[0] < (sides[1] + sides[2]) and sides[1] < (sides[0] + sides[2]) and sides[2] < (sides[0] + sides[1]):\n",
    "        return True\n",
    "    else:\n",
    "        print('Треугольника не существует')\n",
    "        return False\n",
    "        \n",
    "def triangle_area(sides):\n",
    "    sa = sum(sides)/2\n",
    "    area = (sa*(sa-sides[0])*(sa-sides[1])*(sa-sides[2])) ** 0.5 \n",
    "    return area\n",
    "    \n",
    "def triangle_square_check():\n",
    "    print('Пусть первый треугольник имеет стороны ABC')\n",
    "    while True:\n",
    "        a = float(input(\"Введите сторону A:\"))\n",
    "        b = float(input(\"Введите сторону B:\"))\n",
    "        c = float(input(\"Введите сторону C:\"))\n",
    "        abc = [a, b, c]\n",
    "        abc_area = triangle_area(abc)\n",
    "        if is_triangle(abc): break\n",
    "\n",
    "    print('Пусть первый треугольник имеет стороны KLM')\n",
    "    while True:\n",
    "        k = float(input(\"Введите сторону K:\"))\n",
    "        l = float(input(\"Введите сторону L:\"))\n",
    "        m = float(input(\"Введите сторону M:\"))\n",
    "        klm = [k, l, m]\n",
    "        klm_area = triangle_area(klm)\n",
    "        if is_triangle(klm): break\n",
    "    \n",
    "    if abc_area == klm_area:\n",
    "        print('Треугольники равновеликие')\n",
    "    else: \n",
    "        print('Треугольники не равны по площади')  \n",
    "\n",
    "def triangle_area(sides):\n",
    "    sa = sum(sides)/2\n",
    "    area = (sa*(sa-sides[0])*(sa-sides[1])*(sa-sides[2])) ** 0.5 \n",
    "    return area"
   ]
  },
  {
   "cell_type": "code",
   "execution_count": 133,
   "id": "6cedab82-cd81-40ce-ade9-facaec0c78b6",
   "metadata": {},
   "outputs": [
    {
     "name": "stdout",
     "output_type": "stream",
     "text": [
      "Пусть первый треугольник имеет стороны ABC\n"
     ]
    },
    {
     "name": "stdin",
     "output_type": "stream",
     "text": [
      "Введите сторону A: 1\n",
      "Введите сторону B: 2\n",
      "Введите сторону C: 3\n"
     ]
    },
    {
     "name": "stdout",
     "output_type": "stream",
     "text": [
      "Треугольника не существует\n"
     ]
    },
    {
     "name": "stdin",
     "output_type": "stream",
     "text": [
      "Введите сторону A: 3\n",
      "Введите сторону B: 4\n",
      "Введите сторону C: 5\n"
     ]
    },
    {
     "name": "stdout",
     "output_type": "stream",
     "text": [
      "Пусть первый треугольник имеет стороны KLM\n"
     ]
    },
    {
     "name": "stdin",
     "output_type": "stream",
     "text": [
      "Введите сторону K: 1\n",
      "Введите сторону L: 2\n",
      "Введите сторону M: 3\n"
     ]
    },
    {
     "name": "stdout",
     "output_type": "stream",
     "text": [
      "Треугольника не существует\n"
     ]
    },
    {
     "name": "stdin",
     "output_type": "stream",
     "text": [
      "Введите сторону K: 3\n",
      "Введите сторону L: 4\n",
      "Введите сторону M: 5\n"
     ]
    },
    {
     "name": "stdout",
     "output_type": "stream",
     "text": [
      "Треугольники равновеликие\n"
     ]
    }
   ],
   "source": [
    "triangle_square_check()\n"
   ]
  },
  {
   "cell_type": "markdown",
   "id": "9efe60cc-02ca-405a-b500-848e60e08544",
   "metadata": {},
   "source": [
    "*Задание 3*"
   ]
  },
  {
   "cell_type": "code",
   "execution_count": 98,
   "id": "8a41285b-c710-4482-b4fa-72c72239a5f6",
   "metadata": {},
   "outputs": [],
   "source": [
    "def a_more_b_more_c(a, b, c):\n",
    "    if (a < b): \n",
    "        a,b = b,a\n",
    "    if (b < c):\n",
    "        b,c = c,b\n",
    "    if (a < b): \n",
    "        a,b = b,a\n",
    "    return a, b, c"
   ]
  },
  {
   "cell_type": "code",
   "execution_count": 102,
   "id": "da290a5b-5daa-4f44-b0bd-d14f88e7bb5d",
   "metadata": {},
   "outputs": [
    {
     "data": {
      "text/plain": [
       "(8, 5, 3)"
      ]
     },
     "execution_count": 102,
     "metadata": {},
     "output_type": "execute_result"
    }
   ],
   "source": [
    "a_more_b_more_c(5, 3, 8)"
   ]
  },
  {
   "cell_type": "markdown",
   "id": "068fb92f-c2e0-44fe-883c-0cdc17deafae",
   "metadata": {},
   "source": [
    "*Задание 4*"
   ]
  },
  {
   "cell_type": "code",
   "execution_count": 92,
   "id": "bc1310b7-6419-4f96-96dc-9b35e715002e",
   "metadata": {},
   "outputs": [],
   "source": [
    "def if_mod_three(x):\n",
    "    if sum_of_digits(x) % 3 == 0:\n",
    "        print('Кратно трем')\n",
    "    else: \n",
    "        print('Некратно трем')\n",
    "\n",
    "def sum_of_digits(num):\n",
    "    sum = 0\n",
    "    while num > 0:\n",
    "        sum += num % 10\n",
    "        num //= 10\n",
    "    return sum\n",
    "\n",
    "def if_mod_a(x, a):\n",
    "    if sum_of_digits(x) % int(a) == 0:\n",
    "        print(f'Кратно {a}')\n",
    "    else: \n",
    "        print(f'Некратно {a}')"
   ]
  },
  {
   "cell_type": "code",
   "execution_count": 93,
   "id": "3c47d32f-3ab6-413c-99e2-f43f3f562bce",
   "metadata": {},
   "outputs": [
    {
     "name": "stdout",
     "output_type": "stream",
     "text": [
      "Некратно трем\n"
     ]
    }
   ],
   "source": [
    "if_mod_three(3334)"
   ]
  },
  {
   "cell_type": "code",
   "execution_count": 97,
   "id": "035b1334-3d2b-4b07-9c49-69a66030af87",
   "metadata": {},
   "outputs": [
    {
     "name": "stdout",
     "output_type": "stream",
     "text": [
      "Кратно 2\n"
     ]
    }
   ],
   "source": [
    "if_mod_a(3344, 2)"
   ]
  },
  {
   "cell_type": "markdown",
   "id": "df580258-3164-4826-b0f3-7fbd62023bec",
   "metadata": {},
   "source": [
    "*Задание 5*"
   ]
  },
  {
   "cell_type": "code",
   "execution_count": 27,
   "id": "557af1c7-9bed-4fe2-a416-264fc1cfbfc6",
   "metadata": {},
   "outputs": [],
   "source": [
    "def is_under_attack(a, b, c, d, e, f, white_piece, black_piece):\n",
    "    if black_piece == 'ладья':\n",
    "        if c == e or d == f:\n",
    "            return True\n",
    "    elif black_piece == 'слон':\n",
    "        if abs(c - e) == abs(d - f):\n",
    "            return True\n",
    "    elif black_piece == 'ферзь':\n",
    "        if c == e or d == f or abs(c - e) == abs(d - f):\n",
    "            return True\n",
    "    elif black_piece == 'король':\n",
    "        if abs(c - e) <= 1 and abs(d - f) <= 1:\n",
    "            return True\n",
    "    return False\n",
    "\n",
    "def can_white_move(a, b, c, d, e, f, white_piece, black_piece):\n",
    "    if white_piece == 'слон':\n",
    "        if abs(a - e) != abs(b - f):\n",
    "            print(\"Фигура не может ходить так: слон ходит только по диагоналям.\")\n",
    "            return False\n",
    "    elif white_piece == 'король':\n",
    "        if abs(a - e) > 1 or abs(b - f) > 1:\n",
    "            print(\"Фигура не может ходить так: король ходит только на одну клетку в любом направлении.\")\n",
    "            return False\n",
    "    elif white_piece == 'ладья':\n",
    "        if a != e and b != f:\n",
    "            print(\"Фигура не может ходить так: ладья ходит только по вертикалям и горизонталям.\")\n",
    "            return False\n",
    "    elif white_piece == 'ферзь':\n",
    "        if a != e and b != f and abs(a - e) != abs(b - f):\n",
    "            print(\"Фигура не может ходить так: ферзь ходит по вертикалям, горизонталям и диагоналям.\")\n",
    "            return False\n",
    "\n",
    "    if is_under_attack(a, b, c, d, e, f, white_piece, black_piece):\n",
    "        print(\"Белая фигура не может пойти на поле (e, f): поле находится под ударом черной фигуры.\")\n",
    "        return False\n",
    "    return True"
   ]
  },
  {
   "cell_type": "code",
   "execution_count": 25,
   "id": "b557eecb-17ec-4dbc-aa17-f1a962171e4a",
   "metadata": {},
   "outputs": [
    {
     "name": "stdout",
     "output_type": "stream",
     "text": [
      "Белая фигура не может пойти на поле (e, f): поле находится под ударом черной фигуры.\n"
     ]
    }
   ],
   "source": [
    "a, b, c, d, e, f = 1, 1, 2, 2, 2, 2\n",
    "white_piece = 'слон'\n",
    "black_piece = 'ладья'\n",
    "\n",
    "if can_white_move(a, b, c, d, e, f, white_piece, black_piece):\n",
    "    print(\"Белая фигура может пойти на поле (e, f), не попав под удар черной фигуры.\")"
   ]
  },
  {
   "cell_type": "code",
   "execution_count": 28,
   "id": "41bdd580-ea42-45d8-ae44-96bc03340263",
   "metadata": {},
   "outputs": [
    {
     "name": "stdout",
     "output_type": "stream",
     "text": [
      "Белая фигура может пойти на поле (e, f), не попав под удар черной фигуры.\n"
     ]
    }
   ],
   "source": [
    "a, b, c, d, e, f = 1, 1, 3, 3, 2, 2\n",
    "white_piece = 'слон'\n",
    "black_piece = 'ладья'\n",
    "\n",
    "if can_white_move(a, b, c, d, e, f, white_piece, black_piece):\n",
    "    print(\"Белая фигура может пойти на поле (e, f), не попав под удар черной фигуры.\")"
   ]
  },
  {
   "cell_type": "code",
   "execution_count": 21,
   "id": "ba985076-d96b-4c66-b6a9-428ad9cf7805",
   "metadata": {},
   "outputs": [
    {
     "name": "stdout",
     "output_type": "stream",
     "text": [
      "Белая фигура может пойти на поле (e, f), не попав под удар черной фигуры.\n"
     ]
    }
   ],
   "source": [
    "a, b, c, d, e, f = 5, 1, 3, 3, 5, 2\n",
    "white_piece = 'король'\n",
    "black_piece = 'слон'\n",
    "if can_white_move(a, b, c, d, e, f, white_piece, black_piece):\n",
    "    print(\"Белая фигура может пойти на поле (e, f), не попав под удар черной фигуры.\")"
   ]
  },
  {
   "cell_type": "code",
   "execution_count": 22,
   "id": "ef6396d4-f583-4b17-90f2-3bb83badbbd7",
   "metadata": {},
   "outputs": [
    {
     "name": "stdout",
     "output_type": "stream",
     "text": [
      "Фигура не может ходить так: король ходит только на одну клетку в любом направлении.\n"
     ]
    }
   ],
   "source": [
    "a, b, c, d, e, f = 5, 1, 3, 3, 5, 3\n",
    "white_piece = 'король'\n",
    "black_piece = 'слон'\n",
    "if can_white_move(a, b, c, d, e, f, white_piece, black_piece):\n",
    "    print(\"Белая фигура может пойти на поле (e, f), не попав под удар черной фигуры.\")"
   ]
  },
  {
   "cell_type": "code",
   "execution_count": 20,
   "id": "f0c66600-1bd9-4286-82b1-8466b5bf25ea",
   "metadata": {},
   "outputs": [
    {
     "name": "stdout",
     "output_type": "stream",
     "text": [
      "Белая фигура не может пойти на поле (e, f): поле находится под ударом черной фигуры.\n"
     ]
    }
   ],
   "source": [
    "a, b, c, d, e, f = 5, 1, 2, 2, 5, 2\n",
    "white_piece = 'король'\n",
    "black_piece = 'ферзь'\n",
    "if can_white_move(a, b, c, d, e, f, white_piece, black_piece):\n",
    "    print(\"Белая фигура может пойти на поле (e, f), не попав под удар черной фигуры.\")"
   ]
  },
  {
   "cell_type": "code",
   "execution_count": 24,
   "id": "b3526aba-41c7-40c3-b178-c7872c0669fa",
   "metadata": {},
   "outputs": [
    {
     "name": "stdout",
     "output_type": "stream",
     "text": [
      "Белая фигура может пойти на поле (e, f), не попав под удар черной фигуры.\n"
     ]
    }
   ],
   "source": [
    "a, b, c, d, e, f = 5, 1, 3, 3, 5, 2\n",
    "white_piece = 'король'\n",
    "black_piece = 'ферзь'\n",
    "if can_white_move(a, b, c, d, e, f, white_piece, black_piece):\n",
    "    print(\"Белая фигура может пойти на поле (e, f), не попав под удар черной фигуры.\")"
   ]
  },
  {
   "cell_type": "code",
   "execution_count": null,
   "id": "dc09f24a-4607-4403-97ea-caf2a889caae",
   "metadata": {},
   "outputs": [],
   "source": []
  }
 ],
 "metadata": {
  "kernelspec": {
   "display_name": "Python 3 (ipykernel)",
   "language": "python",
   "name": "python3"
  },
  "language_info": {
   "codemirror_mode": {
    "name": "ipython",
    "version": 3
   },
   "file_extension": ".py",
   "mimetype": "text/x-python",
   "name": "python",
   "nbconvert_exporter": "python",
   "pygments_lexer": "ipython3",
   "version": "3.12.4"
  }
 },
 "nbformat": 4,
 "nbformat_minor": 5
}
